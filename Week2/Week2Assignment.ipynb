{
  "nbformat": 4,
  "nbformat_minor": 0,
  "metadata": {
    "colab": {
      "provenance": []
    },
    "kernelspec": {
      "name": "python3",
      "display_name": "Python 3"
    },
    "language_info": {
      "name": "python"
    }
  },
  "cells": [
    {
      "cell_type": "code",
      "source": [
        "import numpy as np"
      ],
      "metadata": {
        "id": "QcbvTqCl-gpk"
      },
      "execution_count": null,
      "outputs": []
    },
    {
      "cell_type": "code",
      "execution_count": null,
      "metadata": {
        "id": "-SibNVF87sM2"
      },
      "outputs": [],
      "source": [
        "class ANDNN(object):\n",
        "  def __init__(self):\n",
        "    self.W = np.ones((2,1))\n",
        "    self.b = -2\n",
        "  def forward(self,X):\n",
        "    self.yHat = X@self.W + self.b\n",
        "    return self.activation(self.yHat)\n",
        "  def activation(self,z):\n",
        "    for i in range(len(z)):\n",
        "      if z[i] >= 0:\n",
        "        z[i] = 1\n",
        "      else:\n",
        "        z[i]=0\n",
        "    return z\n",
        "  def cost(self,X,y):\n",
        "    yHat = self.forward(X)\n",
        "    return 1/2*(yHat - y)**2\n"
      ]
    },
    {
      "cell_type": "code",
      "source": [
        "X = np.array([[0,0,0],[0,0,1],[0,1,0],[1,0,0],[0,1,1],[1,0,1],[1,1,0],[1,1,1]])"
      ],
      "metadata": {
        "id": "nrW0VyZKATtc"
      },
      "execution_count": null,
      "outputs": []
    },
    {
      "cell_type": "code",
      "source": [
        "X1 = [[0,0],[0,1],[1,0],[1,1]]"
      ],
      "metadata": {
        "id": "CV2qW_MeGvcQ"
      },
      "execution_count": null,
      "outputs": []
    },
    {
      "cell_type": "code",
      "source": [
        "nn = ANDNN()"
      ],
      "metadata": {
        "id": "Y_2iRE6uATv-"
      },
      "execution_count": null,
      "outputs": []
    },
    {
      "cell_type": "code",
      "source": [
        "yHat = nn.forward(X1)"
      ],
      "metadata": {
        "id": "B7iBAOwRA9_a"
      },
      "execution_count": null,
      "outputs": []
    },
    {
      "cell_type": "code",
      "source": [
        "yHat"
      ],
      "metadata": {
        "colab": {
          "base_uri": "https://localhost:8080/"
        },
        "id": "0_LkkNgIA-Cf",
        "outputId": "11714849-6e28-4196-86c0-714d89fa82ea"
      },
      "execution_count": null,
      "outputs": [
        {
          "output_type": "execute_result",
          "data": {
            "text/plain": [
              "array([[0.],\n",
              "       [0.],\n",
              "       [0.],\n",
              "       [1.]])"
            ]
          },
          "metadata": {},
          "execution_count": 39
        }
      ]
    },
    {
      "cell_type": "code",
      "source": [
        "class XORNN(object):\n",
        "  def __init__(self):\n",
        "    self.W = np.ones((2,1))\n",
        "    self.b = -1\n",
        "  def forward(self,X):\n",
        "    self.yHat = X@self.W + self.b\n",
        "    return self.activation(self.yHat)\n",
        "  def activation(self,z):\n",
        "    for i in range(len(z)):\n",
        "      if z[i] != 0:\n",
        "        z[i] = 0\n",
        "      else:\n",
        "        z[i] = 1\n",
        "    return z\n",
        "  def cost(self,X,y):\n",
        "    yHat = self.forward(X)\n",
        "    return 1/2*(yHat - y)**2"
      ],
      "metadata": {
        "id": "H5vrO7kIC2nb"
      },
      "execution_count": null,
      "outputs": []
    },
    {
      "cell_type": "code",
      "source": [
        "nnn = XORNN()"
      ],
      "metadata": {
        "id": "rs8q6UdmC2xC"
      },
      "execution_count": null,
      "outputs": []
    },
    {
      "cell_type": "code",
      "source": [
        "yHHat = nnn.forward(X1)"
      ],
      "metadata": {
        "id": "y6CiJ-jAD9Z4"
      },
      "execution_count": null,
      "outputs": []
    },
    {
      "cell_type": "code",
      "source": [
        "yHHat"
      ],
      "metadata": {
        "colab": {
          "base_uri": "https://localhost:8080/"
        },
        "id": "CjbaY2vVD9cb",
        "outputId": "84004b8d-4fd8-476e-f909-0697520ab89b"
      },
      "execution_count": null,
      "outputs": [
        {
          "output_type": "execute_result",
          "data": {
            "text/plain": [
              "array([[0.],\n",
              "       [1.],\n",
              "       [1.],\n",
              "       [0.]])"
            ]
          },
          "metadata": {},
          "execution_count": 43
        }
      ]
    },
    {
      "cell_type": "code",
      "source": [
        "#Full Adder using XOR and AND\n",
        "class FullAdder(object):\n",
        "  def __init__(self):\n",
        "    self.XOR = XORNN()\n",
        "    self.AND = ANDNN()\n",
        "\n",
        "  def forward(self,X):\n",
        "    return np.hstack((self.XOR.forward(np.hstack((self.XOR.forward(X[:,:2]),X[:,2:3]))),self.XOR.forward(np.hstack((self.AND.forward(X[:,:2]),self.AND.forward(np.hstack((self.XOR.forward(X[:,:2]),X[:,2:3]))))))))\n",
        "\n",
        "  def forward(self, a, b, c):\n",
        "    sum = self.XOR.forward(np.hstack((self.XOR.forward([a,b]),c)))\n",
        "    carry = self.XOR.forward(np.hstack((self.AND.forward([a,b]),self.AND.forward(np.hstack((self.XOR.forward([a,b]),c))))))\n",
        "    return sum[0], carry[0]"
      ],
      "metadata": {
        "id": "QBLGFgvWC3AK"
      },
      "execution_count": null,
      "outputs": []
    },
    {
      "cell_type": "code",
      "source": [
        "yHat = FullAdder().forward(X)"
      ],
      "metadata": {
        "id": "lffJJH5iFWnZ"
      },
      "execution_count": null,
      "outputs": []
    },
    {
      "cell_type": "code",
      "source": [
        "yHat"
      ],
      "metadata": {
        "colab": {
          "base_uri": "https://localhost:8080/"
        },
        "id": "9S64vZCuFWpn",
        "outputId": "06d2d272-eb6e-4cb9-ea2e-aab1cd3c68ea"
      },
      "execution_count": null,
      "outputs": [
        {
          "output_type": "execute_result",
          "data": {
            "text/plain": [
              "array([[0., 0.],\n",
              "       [1., 0.],\n",
              "       [1., 0.],\n",
              "       [1., 0.],\n",
              "       [0., 1.],\n",
              "       [0., 1.],\n",
              "       [0., 1.],\n",
              "       [1., 1.]])"
            ]
          },
          "metadata": {},
          "execution_count": 46
        }
      ]
    },
    {
      "cell_type": "code",
      "source": [
        "s,c = FullAdder().forward(1,1,0)"
      ],
      "metadata": {
        "id": "noTS_dE2JHTB"
      },
      "execution_count": null,
      "outputs": []
    },
    {
      "cell_type": "code",
      "source": [
        "s,c"
      ],
      "metadata": {
        "colab": {
          "base_uri": "https://localhost:8080/"
        },
        "id": "KmhLd_g2JHVR",
        "outputId": "6baadb16-d513-4a74-988f-055b49897260"
      },
      "execution_count": null,
      "outputs": [
        {
          "output_type": "execute_result",
          "data": {
            "text/plain": [
              "(0.0, 1.0)"
            ]
          },
          "metadata": {},
          "execution_count": 59
        }
      ]
    },
    {
      "cell_type": "code",
      "source": [
        "#Ripple Carry Adder\n",
        "class rippleCarryAdder(object):\n",
        "  def __init__(self):\n",
        "    self.FA = FullAdder()\n",
        "  def forward(self,X,Y):\n",
        "    X = np.array(X)\n",
        "    X = np.flip(X)\n",
        "    Y = np.array(Y)\n",
        "    Y = np.flip(Y)\n",
        "    Z = np.zeros((max(len(X),len(Y))+1))\n",
        "    if(len(X) < len(Y)):\n",
        "      X = np.pad(X,len(Y)-len(X))\n",
        "    elif(len(X) > len(Y)):\n",
        "      Y = np.pad(Y,len(X)-len(Y))\n",
        "    s,c = self.FA.forward(X[0],Y[0],0)\n",
        "    Z[0] = s\n",
        "    for i in range(max(len(X),len(Y))-1):\n",
        "      s,c = self.FA.forward(X[i+1],Y[i+1],c)\n",
        "      Z[i+1] = s\n",
        "    Z[-1] = c\n",
        "    return np.flip(Z)"
      ],
      "metadata": {
        "id": "8KUj5XiQJHgf"
      },
      "execution_count": 68,
      "outputs": []
    },
    {
      "cell_type": "code",
      "source": [
        "rippleCarryAdder().forward([1,1,1],[1,0,0])"
      ],
      "metadata": {
        "colab": {
          "base_uri": "https://localhost:8080/"
        },
        "id": "ImWEH0_oaaho",
        "outputId": "03919efd-b3ff-48d4-cc06-c638f715431a"
      },
      "execution_count": 70,
      "outputs": [
        {
          "output_type": "execute_result",
          "data": {
            "text/plain": [
              "array([1., 0., 1., 1.])"
            ]
          },
          "metadata": {},
          "execution_count": 70
        }
      ]
    }
  ]
}