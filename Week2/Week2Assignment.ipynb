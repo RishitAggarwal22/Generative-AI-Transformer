{
  "cells": [
    {
      "cell_type": "code",
      "execution_count": 33,
      "metadata": {
        "id": "QcbvTqCl-gpk"
      },
      "outputs": [],
      "source": [
        "import numpy as np"
      ]
    },
    {
      "cell_type": "code",
      "execution_count": 34,
      "metadata": {
        "id": "-SibNVF87sM2"
      },
      "outputs": [],
      "source": [
        "class ANDNN(object):\n",
        "  def __init__(self):\n",
        "    self.W = np.ones((2,1))\n",
        "    self.b = -2\n",
        "  def forward(self,X):\n",
        "    self.yHat = X@self.W + self.b\n",
        "    return self.activation(self.yHat)\n",
        "  def activation(self,z):\n",
        "    for i in range(len(z)):\n",
        "      if z[i] >= 0:\n",
        "        z[i] = 1\n",
        "      else:\n",
        "        z[i]=0\n",
        "    return z\n",
        "  def cost(self,X,y):\n",
        "    yHat = self.forward(X)\n",
        "    return 1/2*(yHat - y)**2\n"
      ]
    },
    {
      "cell_type": "code",
      "execution_count": 35,
      "metadata": {
        "id": "nrW0VyZKATtc"
      },
      "outputs": [],
      "source": [
        "X = np.array([[0,0,0],[0,0,1],[0,1,0],[1,0,0],[0,1,1],[1,0,1],[1,1,0],[1,1,1]])"
      ]
    },
    {
      "cell_type": "code",
      "execution_count": 36,
      "metadata": {
        "id": "CV2qW_MeGvcQ"
      },
      "outputs": [],
      "source": [
        "X1 = [[0,0],[0,1],[1,0],[1,1]]"
      ]
    },
    {
      "cell_type": "code",
      "execution_count": 37,
      "metadata": {
        "id": "Y_2iRE6uATv-"
      },
      "outputs": [],
      "source": [
        "nn = ANDNN()"
      ]
    },
    {
      "cell_type": "code",
      "execution_count": 38,
      "metadata": {
        "id": "B7iBAOwRA9_a"
      },
      "outputs": [],
      "source": [
        "yHat = nn.forward(X1)"
      ]
    },
    {
      "cell_type": "code",
      "execution_count": 39,
      "metadata": {
        "colab": {
          "base_uri": "https://localhost:8080/"
        },
        "id": "0_LkkNgIA-Cf",
        "outputId": "11714849-6e28-4196-86c0-714d89fa82ea"
      },
      "outputs": [
        {
          "data": {
            "text/plain": [
              "array([[0.],\n",
              "       [0.],\n",
              "       [0.],\n",
              "       [1.]])"
            ]
          },
          "execution_count": 39,
          "metadata": {},
          "output_type": "execute_result"
        }
      ],
      "source": [
        "yHat"
      ]
    },
    {
      "cell_type": "code",
      "execution_count": 40,
      "metadata": {
        "id": "H5vrO7kIC2nb"
      },
      "outputs": [],
      "source": [
        "class XORNN(object):\n",
        "  def __init__(self):\n",
        "    self.W = np.ones((2,1))\n",
        "    self.b = -1\n",
        "  def forward(self,X):\n",
        "    self.yHat = X@self.W + self.b\n",
        "    return self.activation(self.yHat)\n",
        "  def activation(self,z):\n",
        "    for i in range(len(z)):\n",
        "      if z[i] != 0:\n",
        "        z[i] = 0\n",
        "      else:\n",
        "        z[i] = 1\n",
        "    return z\n",
        "  def cost(self,X,y):\n",
        "    yHat = self.forward(X)\n",
        "    return 1/2*(yHat - y)**2"
      ]
    },
    {
      "cell_type": "code",
      "execution_count": 41,
      "metadata": {
        "id": "rs8q6UdmC2xC"
      },
      "outputs": [],
      "source": [
        "nnn = XORNN()"
      ]
    },
    {
      "cell_type": "code",
      "execution_count": 42,
      "metadata": {
        "id": "y6CiJ-jAD9Z4"
      },
      "outputs": [],
      "source": [
        "yHHat = nnn.forward(X1)"
      ]
    },
    {
      "cell_type": "code",
      "execution_count": 43,
      "metadata": {
        "colab": {
          "base_uri": "https://localhost:8080/"
        },
        "id": "CjbaY2vVD9cb",
        "outputId": "84004b8d-4fd8-476e-f909-0697520ab89b"
      },
      "outputs": [
        {
          "data": {
            "text/plain": [
              "array([[0.],\n",
              "       [1.],\n",
              "       [1.],\n",
              "       [0.]])"
            ]
          },
          "execution_count": 43,
          "metadata": {},
          "output_type": "execute_result"
        }
      ],
      "source": [
        "yHHat"
      ]
    },
    {
      "cell_type": "code",
      "execution_count": 44,
      "metadata": {
        "id": "QBLGFgvWC3AK"
      },
      "outputs": [],
      "source": [
        "#Full Adder using XOR and AND\n",
        "class FullAdder(object):\n",
        "  def __init__(self):\n",
        "    self.XOR = XORNN()\n",
        "    self.AND = ANDNN()\n",
        "\n",
        "  def forward(self,X):\n",
        "    return np.hstack((self.XOR.forward(np.hstack((self.XOR.forward(X[:,:2]),X[:,2:3]))),self.XOR.forward(np.hstack((self.AND.forward(X[:,:2]),self.AND.forward(np.hstack((self.XOR.forward(X[:,:2]),X[:,2:3]))))))))\n"
      ]
    },
    {
      "cell_type": "code",
      "execution_count": 45,
      "metadata": {
        "id": "lffJJH5iFWnZ"
      },
      "outputs": [],
      "source": [
        "yHat = FullAdder().forward(X)"
      ]
    },
    {
      "cell_type": "code",
      "execution_count": 46,
      "metadata": {
        "colab": {
          "base_uri": "https://localhost:8080/"
        },
        "id": "9S64vZCuFWpn",
        "outputId": "06d2d272-eb6e-4cb9-ea2e-aab1cd3c68ea"
      },
      "outputs": [
        {
          "data": {
            "text/plain": [
              "array([[0., 0.],\n",
              "       [1., 0.],\n",
              "       [1., 0.],\n",
              "       [1., 0.],\n",
              "       [0., 1.],\n",
              "       [0., 1.],\n",
              "       [0., 1.],\n",
              "       [1., 1.]])"
            ]
          },
          "execution_count": 46,
          "metadata": {},
          "output_type": "execute_result"
        }
      ],
      "source": [
        "yHat"
      ]
    }
  ],
  "metadata": {
    "colab": {
      "provenance": []
    },
    "kernelspec": {
      "display_name": "Python 3",
      "name": "python3"
    },
    "language_info": {
      "name": "python"
    }
  },
  "nbformat": 4,
  "nbformat_minor": 0
}
