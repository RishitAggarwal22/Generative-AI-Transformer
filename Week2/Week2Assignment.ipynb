{
  "nbformat": 4,
  "nbformat_minor": 0,
  "metadata": {
    "colab": {
      "provenance": []
    },
    "kernelspec": {
      "name": "python3",
      "display_name": "Python 3"
    },
    "language_info": {
      "name": "python"
    }
  },
  "cells": [
    {
      "cell_type": "code",
      "source": [
        "import numpy as np"
      ],
      "metadata": {
        "id": "QcbvTqCl-gpk"
      },
      "execution_count": 2,
      "outputs": []
    },
    {
      "cell_type": "code",
      "execution_count": 26,
      "metadata": {
        "id": "-SibNVF87sM2"
      },
      "outputs": [],
      "source": [
        "class ANDNN(object):\n",
        "  def __init__(self):\n",
        "    self.W = np.ones((2,1))\n",
        "    self.b = -2\n",
        "  def forward(self,X):\n",
        "    self.yHat = X@self.W + self.b\n",
        "    return self.activation(self.yHat)\n",
        "  def activation(self,z):\n",
        "    for i in range(len(z)):\n",
        "      if z[i] >= 0:\n",
        "        z[i] = 1\n",
        "      else:\n",
        "        z[i]=0\n",
        "    return z\n",
        "  def cost(self,X,y):\n",
        "    yHat = self.forward(X)\n",
        "    return 1/2*(yHat - y)**2\n"
      ]
    },
    {
      "cell_type": "code",
      "source": [
        "X = np.array([[0,0],[0,1],[1,0],[1,1]])"
      ],
      "metadata": {
        "id": "nrW0VyZKATtc"
      },
      "execution_count": 6,
      "outputs": []
    },
    {
      "cell_type": "code",
      "source": [
        "nn = ANDNN()"
      ],
      "metadata": {
        "id": "Y_2iRE6uATv-"
      },
      "execution_count": 27,
      "outputs": []
    },
    {
      "cell_type": "code",
      "source": [
        "yHat = nn.forward(X)"
      ],
      "metadata": {
        "id": "B7iBAOwRA9_a"
      },
      "execution_count": 28,
      "outputs": []
    },
    {
      "cell_type": "code",
      "source": [
        "yHat"
      ],
      "metadata": {
        "colab": {
          "base_uri": "https://localhost:8080/"
        },
        "id": "0_LkkNgIA-Cf",
        "outputId": "d0a9d549-2473-49f3-de54-3c3abd329f9d"
      },
      "execution_count": 29,
      "outputs": [
        {
          "output_type": "execute_result",
          "data": {
            "text/plain": [
              "array([[0.],\n",
              "       [0.],\n",
              "       [0.],\n",
              "       [1.]])"
            ]
          },
          "metadata": {},
          "execution_count": 29
        }
      ]
    },
    {
      "cell_type": "code",
      "source": [
        "class XORNN(object):\n",
        "  def __init__(self):\n",
        "    self.W = np.ones((2,1))\n",
        "    self.b = -1\n",
        "  def forward(self,X):\n",
        "    self.yHat = X@self.W + self.b\n",
        "    return self.activation(self.yHat)\n",
        "  def activation(self,z):\n",
        "    for i in range(len(z)):\n",
        "      if z[i] == 0:\n",
        "        z[i] = 0\n",
        "      else:\n",
        "        z[i] = 1\n",
        "    return z\n",
        "  def cost(self,X,y):\n",
        "    yHat = self.forward(X)\n",
        "    return 1/2*(yHat - y)**2"
      ],
      "metadata": {
        "id": "H5vrO7kIC2nb"
      },
      "execution_count": 30,
      "outputs": []
    },
    {
      "cell_type": "code",
      "source": [
        "nnn = XORNN()"
      ],
      "metadata": {
        "id": "rs8q6UdmC2xC"
      },
      "execution_count": 31,
      "outputs": []
    },
    {
      "cell_type": "code",
      "source": [
        "yHHat = nnn.forward(X)"
      ],
      "metadata": {
        "id": "y6CiJ-jAD9Z4"
      },
      "execution_count": 32,
      "outputs": []
    },
    {
      "cell_type": "code",
      "source": [
        "yHHat"
      ],
      "metadata": {
        "colab": {
          "base_uri": "https://localhost:8080/"
        },
        "id": "CjbaY2vVD9cb",
        "outputId": "9517b3f5-9690-438b-934b-7bb092200d32"
      },
      "execution_count": 33,
      "outputs": [
        {
          "output_type": "execute_result",
          "data": {
            "text/plain": [
              "array([[1.],\n",
              "       [0.],\n",
              "       [0.],\n",
              "       [1.]])"
            ]
          },
          "metadata": {},
          "execution_count": 33
        }
      ]
    },
    {
      "cell_type": "code",
      "source": [],
      "metadata": {
        "id": "QBLGFgvWC3AK"
      },
      "execution_count": null,
      "outputs": []
    }
  ]
}