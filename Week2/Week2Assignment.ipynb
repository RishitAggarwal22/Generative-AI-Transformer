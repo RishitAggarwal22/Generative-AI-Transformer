{
  "cells": [
    {
      "cell_type": "code",
      "execution_count": 2,
      "metadata": {
        "id": "QcbvTqCl-gpk"
      },
      "outputs": [],
      "source": [
        "import numpy as np"
      ]
    },
    {
      "cell_type": "code",
      "execution_count": 26,
      "metadata": {
        "id": "-SibNVF87sM2"
      },
      "outputs": [],
      "source": [
        "class ANDNN(object):\n",
        "  def __init__(self):\n",
        "    self.W = np.ones((2,1))\n",
        "    self.b = -2\n",
        "  def forward(self,X):\n",
        "    self.yHat = X@self.W + self.b\n",
        "    return self.activation(self.yHat)\n",
        "  def activation(self,z):\n",
        "    for i in range(len(z)):\n",
        "      if z[i] >= 0:\n",
        "        z[i] = 1\n",
        "      else:\n",
        "        z[i]=0\n",
        "    return z\n",
        "  def cost(self,X,y):\n",
        "    yHat = self.forward(X)\n",
        "    return 1/2*(yHat - y)**2\n"
      ]
    },
    {
      "cell_type": "code",
      "execution_count": 6,
      "metadata": {
        "id": "nrW0VyZKATtc"
      },
      "outputs": [],
      "source": [
        "X = np.array([[0,0],[0,1],[1,0],[1,1]])"
      ]
    },
    {
      "cell_type": "code",
      "execution_count": 27,
      "metadata": {
        "id": "Y_2iRE6uATv-"
      },
      "outputs": [],
      "source": [
        "nn = ANDNN()"
      ]
    },
    {
      "cell_type": "code",
      "execution_count": 28,
      "metadata": {
        "id": "B7iBAOwRA9_a"
      },
      "outputs": [],
      "source": [
        "yHat = nn.forward(X)"
      ]
    },
    {
      "cell_type": "code",
      "execution_count": 29,
      "metadata": {
        "colab": {
          "base_uri": "https://localhost:8080/"
        },
        "id": "0_LkkNgIA-Cf",
        "outputId": "d0a9d549-2473-49f3-de54-3c3abd329f9d"
      },
      "outputs": [
        {
          "data": {
            "text/plain": [
              "array([[0.],\n",
              "       [0.],\n",
              "       [0.],\n",
              "       [1.]])"
            ]
          },
          "execution_count": 29,
          "metadata": {},
          "output_type": "execute_result"
        }
      ],
      "source": [
        "yHat"
      ]
    },
    {
      "cell_type": "code",
      "execution_count": 30,
      "metadata": {
        "id": "H5vrO7kIC2nb"
      },
      "outputs": [],
      "source": [
        "class XORNN(object):\n",
        "  def __init__(self):\n",
        "    self.W = np.ones((2,1))\n",
        "    self.b = -1\n",
        "  def forward(self,X):\n",
        "    self.yHat = X@self.W + self.b\n",
        "    return self.activation(self.yHat)\n",
        "  def activation(self,z):\n",
        "    for i in range(len(z)):\n",
        "      if z[i] != 0:\n",
        "        z[i] = 0\n",
        "      else:\n",
        "        z[i] = 1\n",
        "    return z\n",
        "  def cost(self,X,y):\n",
        "    yHat = self.forward(X)\n",
        "    return 1/2*(yHat - y)**2"
      ]
    },
    {
      "cell_type": "code",
      "execution_count": 31,
      "metadata": {
        "id": "rs8q6UdmC2xC"
      },
      "outputs": [],
      "source": [
        "nnn = XORNN()"
      ]
    },
    {
      "cell_type": "code",
      "execution_count": 32,
      "metadata": {
        "id": "y6CiJ-jAD9Z4"
      },
      "outputs": [],
      "source": [
        "yHHat = nnn.forward(X)"
      ]
    },
    {
      "cell_type": "code",
      "execution_count": 33,
      "metadata": {
        "colab": {
          "base_uri": "https://localhost:8080/"
        },
        "id": "CjbaY2vVD9cb",
        "outputId": "9517b3f5-9690-438b-934b-7bb092200d32"
      },
      "outputs": [
        {
          "data": {
            "text/plain": [
              "array([[1.],\n",
              "       [0.],\n",
              "       [0.],\n",
              "       [1.]])"
            ]
          },
          "execution_count": 33,
          "metadata": {},
          "output_type": "execute_result"
        }
      ],
      "source": [
        "yHHat"
      ]
    },
    {
      "cell_type": "code",
      "execution_count": null,
      "metadata": {
        "id": "QBLGFgvWC3AK"
      },
      "outputs": [],
      "source": []
    }
  ],
  "metadata": {
    "colab": {
      "provenance": []
    },
    "kernelspec": {
      "display_name": "Python 3",
      "name": "python3"
    },
    "language_info": {
      "name": "python"
    }
  },
  "nbformat": 4,
  "nbformat_minor": 0
}
